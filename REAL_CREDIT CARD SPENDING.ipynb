{
 "cells": [
  {
   "cell_type": "code",
   "execution_count": 1,
   "id": "92cc1b3a",
   "metadata": {},
   "outputs": [],
   "source": [
    "#import necessary libraries like Pandas and NumPy.\n",
    "import pandas as pd\n",
    "import numpy as np\n",
    "from datetime import date\n",
    "from sklearn.preprocessing import LabelEncoder, StandardScaler\n",
    "from sklearn.model_selection import train_test_split\n",
    "from sklearn.linear_model import LinearRegression\n",
    "from sklearn.tree import DecisionTreeRegressor\n",
    "from sklearn.ensemble import RandomForestRegressor\n",
    "from sklearn.metrics import r2_score\n",
    "import warnings\n",
    "warnings.simplefilter(\"ignore\", UserWarning)"
   ]
  },
  {
   "cell_type": "code",
   "execution_count": 2,
   "id": "e7191c21",
   "metadata": {},
   "outputs": [],
   "source": [
    "#reads the CSV file using the pd.read_csv() function and assigns it to the data variable\n",
    "df1 = pd.read_csv(\"C:\\\\Users\\\\Akon.usoh\\\\Desktop\\\\PERSONAL\\\\2023 PROJECTS\\\\Credit_Card_Prediction.csv\")"
   ]
  },
  {
   "cell_type": "code",
   "execution_count": 3,
   "id": "997a0ec8",
   "metadata": {},
   "outputs": [],
   "source": [
    "df = df1.copy()"
   ]
  },
  {
   "cell_type": "markdown",
   "id": "8ebe65f4",
   "metadata": {},
   "source": [
    "We need to create a copy of the df1 DataFrame and assign it to df because if we modify df directly without creating a copy, it will also modify the original df1 DataFrame. This can be problematic if we need to compare the modified and original DataFrames or if we need to run additional analysis on the original data. Creating a copy ensures that any changes we make to the new df DataFrame do not affect the original df1 DataFrame."
   ]
  },
  {
   "cell_type": "code",
   "execution_count": 4,
   "id": "bcc2dd1e",
   "metadata": {},
   "outputs": [
    {
     "data": {
      "text/html": [
       "<div>\n",
       "<style scoped>\n",
       "    .dataframe tbody tr th:only-of-type {\n",
       "        vertical-align: middle;\n",
       "    }\n",
       "\n",
       "    .dataframe tbody tr th {\n",
       "        vertical-align: top;\n",
       "    }\n",
       "\n",
       "    .dataframe thead th {\n",
       "        text-align: right;\n",
       "    }\n",
       "</style>\n",
       "<table border=\"1\" class=\"dataframe\">\n",
       "  <thead>\n",
       "    <tr style=\"text-align: right;\">\n",
       "      <th></th>\n",
       "      <th>Name</th>\n",
       "      <th>Gender</th>\n",
       "      <th>Phone_Number</th>\n",
       "      <th>Email</th>\n",
       "      <th>Date_of_birth</th>\n",
       "      <th>Occupation</th>\n",
       "      <th>Income</th>\n",
       "      <th>Credit_Score</th>\n",
       "      <th>Credit_Limit</th>\n",
       "      <th>Credit_Card_Balance</th>\n",
       "      <th>Credit_Card_Type</th>\n",
       "    </tr>\n",
       "  </thead>\n",
       "  <tbody>\n",
       "    <tr>\n",
       "      <th>0</th>\n",
       "      <td>Maxwell Dwyer</td>\n",
       "      <td>Male</td>\n",
       "      <td>7-372-875-5034</td>\n",
       "      <td>Maxwell_Dwyer3033@urn0m.center</td>\n",
       "      <td>1/23/1994</td>\n",
       "      <td>IT Support Staff</td>\n",
       "      <td>75563674.03</td>\n",
       "      <td>744</td>\n",
       "      <td>181182</td>\n",
       "      <td>46074</td>\n",
       "      <td>MasterCard</td>\n",
       "    </tr>\n",
       "    <tr>\n",
       "      <th>1</th>\n",
       "      <td>Trisha Redden</td>\n",
       "      <td>Female</td>\n",
       "      <td>4-683-143-6436</td>\n",
       "      <td>Trisha_Redden4518@3wbkp.zone</td>\n",
       "      <td>02/02/1996</td>\n",
       "      <td>Retail Trainee</td>\n",
       "      <td>15546374.91</td>\n",
       "      <td>301</td>\n",
       "      <td>62491</td>\n",
       "      <td>146166</td>\n",
       "      <td>VisaGold</td>\n",
       "    </tr>\n",
       "    <tr>\n",
       "      <th>2</th>\n",
       "      <td>Chuck Watson</td>\n",
       "      <td>Male</td>\n",
       "      <td>2-112-046-5848</td>\n",
       "      <td>Chuck_Watson4904@urn0m.com</td>\n",
       "      <td>04/06/1982</td>\n",
       "      <td>Steward</td>\n",
       "      <td>46203873.24</td>\n",
       "      <td>835</td>\n",
       "      <td>490051</td>\n",
       "      <td>78059</td>\n",
       "      <td>VisaPlatinum</td>\n",
       "    </tr>\n",
       "    <tr>\n",
       "      <th>3</th>\n",
       "      <td>Meredith Bryant</td>\n",
       "      <td>Female</td>\n",
       "      <td>8-742-122-4222</td>\n",
       "      <td>Meredith_Bryant1962@xqj6f.app</td>\n",
       "      <td>04/04/1971</td>\n",
       "      <td>Doctor</td>\n",
       "      <td>56957946.95</td>\n",
       "      <td>331</td>\n",
       "      <td>322623</td>\n",
       "      <td>174758</td>\n",
       "      <td>VisaInfinite</td>\n",
       "    </tr>\n",
       "    <tr>\n",
       "      <th>4</th>\n",
       "      <td>Brad Poulton</td>\n",
       "      <td>Male</td>\n",
       "      <td>8-381-385-4144</td>\n",
       "      <td>Brad_Poulton3135@ag5wi.design</td>\n",
       "      <td>12/08/1973</td>\n",
       "      <td>Stockbroker</td>\n",
       "      <td>69927678.15</td>\n",
       "      <td>626</td>\n",
       "      <td>232465</td>\n",
       "      <td>63160</td>\n",
       "      <td>MasterCard</td>\n",
       "    </tr>\n",
       "  </tbody>\n",
       "</table>\n",
       "</div>"
      ],
      "text/plain": [
       "              Name  Gender    Phone_Number                           Email  \\\n",
       "0    Maxwell Dwyer    Male  7-372-875-5034  Maxwell_Dwyer3033@urn0m.center   \n",
       "1    Trisha Redden  Female  4-683-143-6436    Trisha_Redden4518@3wbkp.zone   \n",
       "2     Chuck Watson    Male  2-112-046-5848      Chuck_Watson4904@urn0m.com   \n",
       "3  Meredith Bryant  Female  8-742-122-4222   Meredith_Bryant1962@xqj6f.app   \n",
       "4     Brad Poulton    Male  8-381-385-4144   Brad_Poulton3135@ag5wi.design   \n",
       "\n",
       "  Date_of_birth        Occupation       Income  Credit_Score  Credit_Limit  \\\n",
       "0     1/23/1994  IT Support Staff  75563674.03           744        181182   \n",
       "1    02/02/1996    Retail Trainee  15546374.91           301         62491   \n",
       "2    04/06/1982           Steward  46203873.24           835        490051   \n",
       "3    04/04/1971            Doctor  56957946.95           331        322623   \n",
       "4    12/08/1973       Stockbroker  69927678.15           626        232465   \n",
       "\n",
       "   Credit_Card_Balance Credit_Card_Type  \n",
       "0                46074       MasterCard  \n",
       "1               146166         VisaGold  \n",
       "2                78059     VisaPlatinum  \n",
       "3               174758     VisaInfinite  \n",
       "4                63160       MasterCard  "
      ]
     },
     "execution_count": 4,
     "metadata": {},
     "output_type": "execute_result"
    }
   ],
   "source": [
    "df.head()"
   ]
  },
  {
   "cell_type": "code",
   "execution_count": 5,
   "id": "1f7d256f",
   "metadata": {},
   "outputs": [
    {
     "name": "stdout",
     "output_type": "stream",
     "text": [
      "<class 'pandas.core.frame.DataFrame'>\n",
      "RangeIndex: 100000 entries, 0 to 99999\n",
      "Data columns (total 11 columns):\n",
      " #   Column               Non-Null Count   Dtype  \n",
      "---  ------               --------------   -----  \n",
      " 0   Name                 100000 non-null  object \n",
      " 1   Gender               100000 non-null  object \n",
      " 2   Phone_Number         100000 non-null  object \n",
      " 3   Email                100000 non-null  object \n",
      " 4   Date_of_birth        100000 non-null  object \n",
      " 5   Occupation           100000 non-null  object \n",
      " 6   Income               100000 non-null  float64\n",
      " 7   Credit_Score         100000 non-null  int64  \n",
      " 8   Credit_Limit         100000 non-null  int64  \n",
      " 9   Credit_Card_Balance  100000 non-null  int64  \n",
      " 10  Credit_Card_Type     100000 non-null  object \n",
      "dtypes: float64(1), int64(3), object(7)\n",
      "memory usage: 8.4+ MB\n"
     ]
    }
   ],
   "source": [
    "df.info()"
   ]
  },
  {
   "cell_type": "code",
   "execution_count": 6,
   "id": "36ea9873",
   "metadata": {},
   "outputs": [
    {
     "data": {
      "text/plain": [
       "(100000, 11)"
      ]
     },
     "execution_count": 6,
     "metadata": {},
     "output_type": "execute_result"
    }
   ],
   "source": [
    "df.shape"
   ]
  },
  {
   "cell_type": "markdown",
   "id": "a7c5f31b",
   "metadata": {},
   "source": [
    "## DATA CLEANING"
   ]
  },
  {
   "cell_type": "markdown",
   "id": "971fc881",
   "metadata": {},
   "source": [
    "#### Drop columns not needed for prediction\n",
    "\n",
    "The 'Name', 'Phone Number', and 'Email' columns will be dropped from the dataset because they are categorical features that do not provide any useful information for the machine learning model to predict credit card spending. \n",
    "\n",
    "The name, phone number, and email address of a customer are unique identifiers, but they do not provide any information that is relevant to the credit card spending patterns of customers.\n",
    "\n",
    "In machine learning, it is important to remove irrelevant or redundant features from the dataset, as they can negatively impact the accuracy of the model. \n",
    "\n",
    "Therefore, it is common practice to drop categorical columns that do not provide useful information for the prediction task."
   ]
  },
  {
   "cell_type": "code",
   "execution_count": 7,
   "id": "d1fbeda8",
   "metadata": {},
   "outputs": [],
   "source": [
    "# Drop columns that are not needed for prediction\n",
    "df = df.drop(['Name', 'Phone_Number', 'Email'], axis=1)"
   ]
  },
  {
   "cell_type": "markdown",
   "id": "e8b1d710",
   "metadata": {},
   "source": [
    "## FEATURE ENGINEERING\n",
    "Feature engineering involves creating new features or transform existing ones to improve the performance of the model."
   ]
  },
  {
   "cell_type": "markdown",
   "id": "5dceed62",
   "metadata": {},
   "source": [
    "#### Convert Date of Birth column to Age\n",
    "\n",
    "We converted the 'Date of Birth' column to 'Age' because age is a more meaningful and relevant feature in predicting credit card spending. Knowing a customer's age provides useful information such as their income level, spending habits, and creditworthiness. In addition, age is a continuous variable that can be easily used by machine learning models to make accurate predictions. On the other hand, the 'Date of Birth' column contains a large number of unique values that would be difficult for a machine learning model to use effectively."
   ]
  },
  {
   "cell_type": "code",
   "execution_count": 8,
   "id": "f5ee63f0",
   "metadata": {},
   "outputs": [
    {
     "name": "stderr",
     "output_type": "stream",
     "text": [
      "C:\\Users\\Akon.usoh\\AppData\\Local\\Temp\\ipykernel_8892\\2195957253.py:5: FutureWarning: The pandas.datetime class is deprecated and will be removed from pandas in a future version. Import from datetime module instead.\n",
      "  df['Age'] = pd.datetime.now().year - df['Date_of_birth'].dt.year\n"
     ]
    }
   ],
   "source": [
    "# Convert the 'Date of birth' column to a datetime format\n",
    "df['Date_of_birth'] = pd.to_datetime(df['Date_of_birth'], format='%m/%d/%Y')\n",
    "\n",
    "# Create a new column 'Age' by subtracting the birth year from the current year\n",
    "df['Age'] = pd.datetime.now().year - df['Date_of_birth'].dt.year\n",
    "\n",
    "#Drop the date of birth column\n",
    "df = df.drop('Date_of_birth', axis=1)"
   ]
  },
  {
   "cell_type": "markdown",
   "id": "1f2e76d9",
   "metadata": {},
   "source": [
    "### The rationale for selecting the below features is as follows:\n",
    "\n",
    "Gender: Gender could play a role in spending behavior, as different genders may have different spending patterns.\n",
    "\n",
    "Occupation: Occupation could be an indicator of income level and spending behavior. For example, a high-income earner may have a higher credit card balance than a low-income earner.\n",
    "\n",
    "Income: Income could be a strong predictor of credit card balance, as individuals with higher incomes may have a higher credit card balance.\n",
    "\n",
    "Credit_Score: Credit score is an important factor that affects credit card balance. Higher credit scores indicate better creditworthiness, which could lead to higher credit limits and higher balances.\n",
    "\n",
    "Credit_Limit: Credit limit could be a strong predictor of credit card balance, as individuals with higher credit limits may have a higher credit card balance.\n",
    "\n",
    "Credit_Card_Type: Credit card type could be an important factor, as different credit cards may have different rewards programs, interest rates, or other features that could affect an individual's spending behavior.\n",
    "\n",
    "Age: Age could be a factor in spending behavior, as younger individuals may have different spending patterns compared to older individuals."
   ]
  },
  {
   "cell_type": "code",
   "execution_count": 9,
   "id": "e1481c36",
   "metadata": {},
   "outputs": [
    {
     "data": {
      "text/html": [
       "<div>\n",
       "<style scoped>\n",
       "    .dataframe tbody tr th:only-of-type {\n",
       "        vertical-align: middle;\n",
       "    }\n",
       "\n",
       "    .dataframe tbody tr th {\n",
       "        vertical-align: top;\n",
       "    }\n",
       "\n",
       "    .dataframe thead th {\n",
       "        text-align: right;\n",
       "    }\n",
       "</style>\n",
       "<table border=\"1\" class=\"dataframe\">\n",
       "  <thead>\n",
       "    <tr style=\"text-align: right;\">\n",
       "      <th></th>\n",
       "      <th>Gender</th>\n",
       "      <th>Occupation</th>\n",
       "      <th>Income</th>\n",
       "      <th>Credit_Score</th>\n",
       "      <th>Credit_Limit</th>\n",
       "      <th>Credit_Card_Balance</th>\n",
       "      <th>Credit_Card_Type</th>\n",
       "      <th>Age</th>\n",
       "    </tr>\n",
       "  </thead>\n",
       "  <tbody>\n",
       "    <tr>\n",
       "      <th>0</th>\n",
       "      <td>Male</td>\n",
       "      <td>IT Support Staff</td>\n",
       "      <td>75563674.03</td>\n",
       "      <td>744</td>\n",
       "      <td>181182</td>\n",
       "      <td>46074</td>\n",
       "      <td>MasterCard</td>\n",
       "      <td>29</td>\n",
       "    </tr>\n",
       "    <tr>\n",
       "      <th>1</th>\n",
       "      <td>Female</td>\n",
       "      <td>Retail Trainee</td>\n",
       "      <td>15546374.91</td>\n",
       "      <td>301</td>\n",
       "      <td>62491</td>\n",
       "      <td>146166</td>\n",
       "      <td>VisaGold</td>\n",
       "      <td>27</td>\n",
       "    </tr>\n",
       "    <tr>\n",
       "      <th>2</th>\n",
       "      <td>Male</td>\n",
       "      <td>Steward</td>\n",
       "      <td>46203873.24</td>\n",
       "      <td>835</td>\n",
       "      <td>490051</td>\n",
       "      <td>78059</td>\n",
       "      <td>VisaPlatinum</td>\n",
       "      <td>41</td>\n",
       "    </tr>\n",
       "    <tr>\n",
       "      <th>3</th>\n",
       "      <td>Female</td>\n",
       "      <td>Doctor</td>\n",
       "      <td>56957946.95</td>\n",
       "      <td>331</td>\n",
       "      <td>322623</td>\n",
       "      <td>174758</td>\n",
       "      <td>VisaInfinite</td>\n",
       "      <td>52</td>\n",
       "    </tr>\n",
       "    <tr>\n",
       "      <th>4</th>\n",
       "      <td>Male</td>\n",
       "      <td>Stockbroker</td>\n",
       "      <td>69927678.15</td>\n",
       "      <td>626</td>\n",
       "      <td>232465</td>\n",
       "      <td>63160</td>\n",
       "      <td>MasterCard</td>\n",
       "      <td>50</td>\n",
       "    </tr>\n",
       "  </tbody>\n",
       "</table>\n",
       "</div>"
      ],
      "text/plain": [
       "   Gender        Occupation       Income  Credit_Score  Credit_Limit  \\\n",
       "0    Male  IT Support Staff  75563674.03           744        181182   \n",
       "1  Female    Retail Trainee  15546374.91           301         62491   \n",
       "2    Male           Steward  46203873.24           835        490051   \n",
       "3  Female            Doctor  56957946.95           331        322623   \n",
       "4    Male       Stockbroker  69927678.15           626        232465   \n",
       "\n",
       "   Credit_Card_Balance Credit_Card_Type  Age  \n",
       "0                46074       MasterCard   29  \n",
       "1               146166         VisaGold   27  \n",
       "2                78059     VisaPlatinum   41  \n",
       "3               174758     VisaInfinite   52  \n",
       "4                63160       MasterCard   50  "
      ]
     },
     "execution_count": 9,
     "metadata": {},
     "output_type": "execute_result"
    }
   ],
   "source": [
    "df.head()"
   ]
  },
  {
   "cell_type": "markdown",
   "id": "a7db9649",
   "metadata": {},
   "source": [
    "## DATA PREPROCESSING"
   ]
  },
  {
   "cell_type": "markdown",
   "id": "67702d3e",
   "metadata": {},
   "source": [
    "### Convert categorical variables (Gender, Occupation, Credit Card Type) to numerical\n",
    "\n",
    "In machine learning algorithms, mathematical operations are performed on the data to train a model and make predictions. \n",
    "\n",
    "Most machine learning models are designed to work with numerical data, and cannot directly work with categorical data.\n",
    "\n",
    "To address this issue, categorical data must be converted into numerical form. There are different techniques to do this conversion such as one-hot encoding, ordinal encoding, and label encoding. \n",
    "\n",
    "In this case, label encoding was used to convert the categorical variables (Gender, Occupation, Credit Card Type) to numerical form.\n",
    "\n",
    "Label encoding assigns a unique integer to each category in a feature. This allows the algorithm to treat the categorical data as numerical data and perform mathematical operations on them. \n",
    "\n",
    "For example, in the Gender feature, 'Male' was assigned the integer value of 1 and 'Female' was assigned the integer value of 0. In the Occupation feature, each occupation was assigned a unique integer. \n",
    "\n",
    "This encoding makes it easier for the algorithm to recognize patterns and make predictions."
   ]
  },
  {
   "cell_type": "code",
   "execution_count": 10,
   "id": "98461cdb",
   "metadata": {},
   "outputs": [],
   "source": [
    "# Preprocessing\n",
    "le = LabelEncoder()\n",
    "\n",
    "# perform label encoding on categorical features\n",
    "df['Gender'] = le.fit_transform(df['Gender'])\n",
    "df['Occupation'] = le.fit_transform(df['Occupation'])\n",
    "df['Credit_Card_Type'] = le.fit_transform(df['Credit_Card_Type'])"
   ]
  },
  {
   "cell_type": "code",
   "execution_count": 11,
   "id": "7a553ecd",
   "metadata": {},
   "outputs": [],
   "source": [
    "# select features and target\n",
    "features = ['Income', 'Credit_Score', 'Credit_Limit', 'Age', 'Gender', 'Occupation', 'Credit_Card_Type']\n",
    "target = 'Credit_Card_Balance'"
   ]
  },
  {
   "cell_type": "markdown",
   "id": "af6915b3",
   "metadata": {},
   "source": [
    "## Scale the data\n",
    "We scale data to ensure that all the features are on a similar scale, which is important for many machine learning algorithms. If the features are not on the same scale, some features will have a larger impact on the prediction than others, simply because of their larger magnitude, even if they are not necessarily more important.\n",
    "\n",
    "For example, if one feature is measured in millions and another in tens or hundreds, the feature measured in millions will have a larger influence on the prediction, even if the other feature is more relevant. Scaling helps to avoid this issue by bringing all the features to a similar scale, so that they can be given equal weight in the prediction process."
   ]
  },
  {
   "cell_type": "code",
   "execution_count": 12,
   "id": "ca466f61",
   "metadata": {},
   "outputs": [],
   "source": [
    "#Preprocessing\n",
    "# create a scaler object\n",
    "scaler = StandardScaler()\n",
    "\n",
    "# scale the numerical features\n",
    "df[features] = scaler.fit_transform(df[features])"
   ]
  },
  {
   "cell_type": "markdown",
   "id": "5c0516b3",
   "metadata": {},
   "source": [
    "## MODEL EVALUATION"
   ]
  },
  {
   "cell_type": "code",
   "execution_count": 13,
   "id": "5b7ab649",
   "metadata": {},
   "outputs": [
    {
     "name": "stdout",
     "output_type": "stream",
     "text": [
      "Decision Tree Regression:\n",
      "R2 Score: 1.0\n"
     ]
    }
   ],
   "source": [
    "# Decision tree regression\n",
    "tree_reg = DecisionTreeRegressor(random_state=42)\n",
    "tree_reg.fit(df[features], df[target])\n",
    "\n",
    "# make predictions on the entire dataset\n",
    "y_pred_tree = tree_reg.predict(df[features])\n",
    "\n",
    "# Evaluate the model\n",
    "print(\"Decision Tree Regression:\")\n",
    "print(\"R2 Score:\", r2_score(df[target], y_pred_tree))"
   ]
  },
  {
   "cell_type": "markdown",
   "id": "8d3fecd9",
   "metadata": {},
   "source": [
    "This is an over-fitting problem; There are several things we can try to improve the performance of a model:\n",
    "\n",
    "Feature selection: We can try selecting a subset of the most important features that have the highest correlation with the target variable.\n",
    "\n",
    "Feature engineering: We can create new features from the existing ones that may better capture the relationship with the target variable. For example, you can create polynomial features, interaction terms, or apply other transformations to the existing features.\n",
    "\n",
    "Hyperparameter tuning: We can try different hyperparameters for your regression model to optimize its performance. For example, you can try different values for the regularization parameter, the learning rate, or the number of trees in the random forest model.\n",
    "\n",
    "Try a different algorithm: Sometimes, a different regression algorithm may work better for your dataset. In this case we will try Linear Regression and Random Forest Regression.\n",
    "\n",
    "Increase the dataset size: Collecting more data can help improve the performance of your model, especially if the current dataset is small.\n",
    "\n",
    "Address outliers: Outliers in the data can have a large impact on the performance of the model. We can try removing them or transforming them to reduce their impact."
   ]
  },
  {
   "cell_type": "code",
   "execution_count": 14,
   "id": "0714a6b8",
   "metadata": {},
   "outputs": [
    {
     "name": "stdout",
     "output_type": "stream",
     "text": [
      "Linear Regression:\n",
      "R2 Score: 7.69848906676529e-05\n"
     ]
    }
   ],
   "source": [
    "# Linear regression\n",
    "## create a linear regression model\n",
    "lin_reg = LinearRegression()\n",
    "\n",
    "# train the model on the training data\n",
    "lin_reg.fit(df[features], df[target])\n",
    "\n",
    "# make predictions on the entire dataset\n",
    "y_pred_lin = lin_reg.predict(df[features])\n",
    "\n",
    "# Evaluate the model\n",
    "print(\"Linear Regression:\")\n",
    "print(\"R2 Score:\", r2_score(df[target], y_pred_lin))"
   ]
  },
  {
   "cell_type": "code",
   "execution_count": 15,
   "id": "cb35f3e1",
   "metadata": {},
   "outputs": [
    {
     "name": "stdout",
     "output_type": "stream",
     "text": [
      "Random Forest Regression:\n",
      "R2 Score: 0.8554950733467367\n"
     ]
    }
   ],
   "source": [
    "# Random forest regression\n",
    "forest_reg = RandomForestRegressor(n_estimators=100, random_state=42)\n",
    "forest_reg.fit(df.drop(target, axis=1), df[target])\n",
    "y_pred_forest = forest_reg.predict(df.drop(target, axis=1))\n",
    "\n",
    "\n",
    "# Evaluate the model\n",
    "print(\"Random Forest Regression:\")\n",
    "print(\"R2 Score:\", r2_score(df[target], y_pred_forest))"
   ]
  },
  {
   "cell_type": "markdown",
   "id": "ea63cec5",
   "metadata": {},
   "source": [
    "Different model options were used to evaluate the performance of different algorithms and choose the best one that gives the most accurate predictions. \n",
    "\n",
    "Each model has its own strengths and weaknesses, and the choice of the best model often depends on the specific problem and the characteristics of the dataset. \n",
    "\n",
    "By comparing the performance of different models, we can select the one that is most suitable for the problem at hand.\n",
    "\n",
    "In this scenarion, the most performing model is Random Forest Regression as it has a lower R2 Score."
   ]
  },
  {
   "cell_type": "code",
   "execution_count": 16,
   "id": "d38c86fb",
   "metadata": {},
   "outputs": [
    {
     "data": {
      "text/plain": [
       "array([ 58601.63, 119632.16,  96722.02, ...,  51950.17,  28440.28,\n",
       "       106065.87])"
      ]
     },
     "execution_count": 16,
     "metadata": {},
     "output_type": "execute_result"
    }
   ],
   "source": [
    "y_pred_forest"
   ]
  },
  {
   "cell_type": "code",
   "execution_count": 17,
   "id": "e2da9775",
   "metadata": {},
   "outputs": [],
   "source": [
    "# create a dataframe with the predictions\n",
    "df1['Credit_Card_Spending'] = pd.DataFrame(y_pred_forest)\n",
    "\n",
    "# Add predicted values to original dataframe\n",
    "#df['Predicted_Spending'] = y_pred"
   ]
  },
  {
   "cell_type": "code",
   "execution_count": 18,
   "id": "064f2345",
   "metadata": {},
   "outputs": [
    {
     "data": {
      "text/plain": [
       "Name                    0\n",
       "Gender                  0\n",
       "Phone_Number            0\n",
       "Email                   0\n",
       "Date_of_birth           0\n",
       "Occupation              0\n",
       "Income                  0\n",
       "Credit_Score            0\n",
       "Credit_Limit            0\n",
       "Credit_Card_Balance     0\n",
       "Credit_Card_Type        0\n",
       "Credit_Card_Spending    0\n",
       "dtype: int64"
      ]
     },
     "execution_count": 18,
     "metadata": {},
     "output_type": "execute_result"
    }
   ],
   "source": [
    "df1.isnull().sum()"
   ]
  },
  {
   "cell_type": "code",
   "execution_count": 19,
   "id": "82a6764f",
   "metadata": {},
   "outputs": [
    {
     "data": {
      "text/html": [
       "<div>\n",
       "<style scoped>\n",
       "    .dataframe tbody tr th:only-of-type {\n",
       "        vertical-align: middle;\n",
       "    }\n",
       "\n",
       "    .dataframe tbody tr th {\n",
       "        vertical-align: top;\n",
       "    }\n",
       "\n",
       "    .dataframe thead th {\n",
       "        text-align: right;\n",
       "    }\n",
       "</style>\n",
       "<table border=\"1\" class=\"dataframe\">\n",
       "  <thead>\n",
       "    <tr style=\"text-align: right;\">\n",
       "      <th></th>\n",
       "      <th>Name</th>\n",
       "      <th>Gender</th>\n",
       "      <th>Phone_Number</th>\n",
       "      <th>Email</th>\n",
       "      <th>Date_of_birth</th>\n",
       "      <th>Occupation</th>\n",
       "      <th>Income</th>\n",
       "      <th>Credit_Score</th>\n",
       "      <th>Credit_Limit</th>\n",
       "      <th>Credit_Card_Balance</th>\n",
       "      <th>Credit_Card_Type</th>\n",
       "      <th>Credit_Card_Spending</th>\n",
       "    </tr>\n",
       "  </thead>\n",
       "  <tbody>\n",
       "    <tr>\n",
       "      <th>0</th>\n",
       "      <td>Maxwell Dwyer</td>\n",
       "      <td>Male</td>\n",
       "      <td>7-372-875-5034</td>\n",
       "      <td>Maxwell_Dwyer3033@urn0m.center</td>\n",
       "      <td>1/23/1994</td>\n",
       "      <td>IT Support Staff</td>\n",
       "      <td>75563674.03</td>\n",
       "      <td>744</td>\n",
       "      <td>181182</td>\n",
       "      <td>46074</td>\n",
       "      <td>MasterCard</td>\n",
       "      <td>58601.63</td>\n",
       "    </tr>\n",
       "    <tr>\n",
       "      <th>1</th>\n",
       "      <td>Trisha Redden</td>\n",
       "      <td>Female</td>\n",
       "      <td>4-683-143-6436</td>\n",
       "      <td>Trisha_Redden4518@3wbkp.zone</td>\n",
       "      <td>02/02/1996</td>\n",
       "      <td>Retail Trainee</td>\n",
       "      <td>15546374.91</td>\n",
       "      <td>301</td>\n",
       "      <td>62491</td>\n",
       "      <td>146166</td>\n",
       "      <td>VisaGold</td>\n",
       "      <td>119632.16</td>\n",
       "    </tr>\n",
       "    <tr>\n",
       "      <th>2</th>\n",
       "      <td>Chuck Watson</td>\n",
       "      <td>Male</td>\n",
       "      <td>2-112-046-5848</td>\n",
       "      <td>Chuck_Watson4904@urn0m.com</td>\n",
       "      <td>04/06/1982</td>\n",
       "      <td>Steward</td>\n",
       "      <td>46203873.24</td>\n",
       "      <td>835</td>\n",
       "      <td>490051</td>\n",
       "      <td>78059</td>\n",
       "      <td>VisaPlatinum</td>\n",
       "      <td>96722.02</td>\n",
       "    </tr>\n",
       "    <tr>\n",
       "      <th>3</th>\n",
       "      <td>Meredith Bryant</td>\n",
       "      <td>Female</td>\n",
       "      <td>8-742-122-4222</td>\n",
       "      <td>Meredith_Bryant1962@xqj6f.app</td>\n",
       "      <td>04/04/1971</td>\n",
       "      <td>Doctor</td>\n",
       "      <td>56957946.95</td>\n",
       "      <td>331</td>\n",
       "      <td>322623</td>\n",
       "      <td>174758</td>\n",
       "      <td>VisaInfinite</td>\n",
       "      <td>157589.05</td>\n",
       "    </tr>\n",
       "    <tr>\n",
       "      <th>4</th>\n",
       "      <td>Brad Poulton</td>\n",
       "      <td>Male</td>\n",
       "      <td>8-381-385-4144</td>\n",
       "      <td>Brad_Poulton3135@ag5wi.design</td>\n",
       "      <td>12/08/1973</td>\n",
       "      <td>Stockbroker</td>\n",
       "      <td>69927678.15</td>\n",
       "      <td>626</td>\n",
       "      <td>232465</td>\n",
       "      <td>63160</td>\n",
       "      <td>MasterCard</td>\n",
       "      <td>82754.83</td>\n",
       "    </tr>\n",
       "  </tbody>\n",
       "</table>\n",
       "</div>"
      ],
      "text/plain": [
       "              Name  Gender    Phone_Number                           Email  \\\n",
       "0    Maxwell Dwyer    Male  7-372-875-5034  Maxwell_Dwyer3033@urn0m.center   \n",
       "1    Trisha Redden  Female  4-683-143-6436    Trisha_Redden4518@3wbkp.zone   \n",
       "2     Chuck Watson    Male  2-112-046-5848      Chuck_Watson4904@urn0m.com   \n",
       "3  Meredith Bryant  Female  8-742-122-4222   Meredith_Bryant1962@xqj6f.app   \n",
       "4     Brad Poulton    Male  8-381-385-4144   Brad_Poulton3135@ag5wi.design   \n",
       "\n",
       "  Date_of_birth        Occupation       Income  Credit_Score  Credit_Limit  \\\n",
       "0     1/23/1994  IT Support Staff  75563674.03           744        181182   \n",
       "1    02/02/1996    Retail Trainee  15546374.91           301         62491   \n",
       "2    04/06/1982           Steward  46203873.24           835        490051   \n",
       "3    04/04/1971            Doctor  56957946.95           331        322623   \n",
       "4    12/08/1973       Stockbroker  69927678.15           626        232465   \n",
       "\n",
       "   Credit_Card_Balance Credit_Card_Type  Credit_Card_Spending  \n",
       "0                46074       MasterCard              58601.63  \n",
       "1               146166         VisaGold             119632.16  \n",
       "2                78059     VisaPlatinum              96722.02  \n",
       "3               174758     VisaInfinite             157589.05  \n",
       "4                63160       MasterCard              82754.83  "
      ]
     },
     "execution_count": 19,
     "metadata": {},
     "output_type": "execute_result"
    }
   ],
   "source": [
    "df1.head(5)"
   ]
  },
  {
   "cell_type": "code",
   "execution_count": 20,
   "id": "4c2d300a",
   "metadata": {},
   "outputs": [],
   "source": [
    "# categorize the predicted spending into risk categories\n",
    "risk_thresh = np.quantile(df1['Credit_Card_Spending'], [0.25, 0.75])\n",
    "low_risk_thresh, high_risk_thresh = risk_thresh\n",
    "\n",
    "df1['Risk_Category'] = np.where(df1['Credit_Card_Spending'] <= low_risk_thresh, 'Low Risk',\n",
    "                               np.where(df1['Credit_Card_Spending'] > high_risk_thresh, 'High Risk', 'Medium Risk'))"
   ]
  },
  {
   "cell_type": "markdown",
   "id": "737c880e",
   "metadata": {},
   "source": [
    "This is categorizing the predicted spending into risk categories based on their distribution.\n",
    "\n",
    "First, the code calculates the lower and upper quartiles of the predicted spending values using the np.quantile() function. These quartiles are then used to define the risk thresholds for categorizing the predicted spending values.\n",
    "\n",
    "Next, the np.where() function is used to categorize the predicted spending values into three risk categories - 'Low Risk', 'Medium Risk', and 'High Risk'. If the predicted spending value is less than or equal to the lower risk threshold, it is categorized as 'Low Risk'. If it is greater than the higher risk threshold, it is categorized as 'High Risk'. Otherwise, it is categorized as 'Medium Risk'.\n",
    "\n",
    "Overall, this is useful in assigning risk categories to the predicted spending values, which can help with further analysis and decision-making."
   ]
  },
  {
   "cell_type": "code",
   "execution_count": 21,
   "id": "58771f77",
   "metadata": {},
   "outputs": [
    {
     "data": {
      "text/html": [
       "<div>\n",
       "<style scoped>\n",
       "    .dataframe tbody tr th:only-of-type {\n",
       "        vertical-align: middle;\n",
       "    }\n",
       "\n",
       "    .dataframe tbody tr th {\n",
       "        vertical-align: top;\n",
       "    }\n",
       "\n",
       "    .dataframe thead th {\n",
       "        text-align: right;\n",
       "    }\n",
       "</style>\n",
       "<table border=\"1\" class=\"dataframe\">\n",
       "  <thead>\n",
       "    <tr style=\"text-align: right;\">\n",
       "      <th></th>\n",
       "      <th>Name</th>\n",
       "      <th>Gender</th>\n",
       "      <th>Phone_Number</th>\n",
       "      <th>Email</th>\n",
       "      <th>Date_of_birth</th>\n",
       "      <th>Occupation</th>\n",
       "      <th>Income</th>\n",
       "      <th>Credit_Score</th>\n",
       "      <th>Credit_Limit</th>\n",
       "      <th>Credit_Card_Balance</th>\n",
       "      <th>Credit_Card_Type</th>\n",
       "      <th>Credit_Card_Spending</th>\n",
       "      <th>Risk_Category</th>\n",
       "    </tr>\n",
       "  </thead>\n",
       "  <tbody>\n",
       "    <tr>\n",
       "      <th>0</th>\n",
       "      <td>Maxwell Dwyer</td>\n",
       "      <td>Male</td>\n",
       "      <td>7-372-875-5034</td>\n",
       "      <td>Maxwell_Dwyer3033@urn0m.center</td>\n",
       "      <td>1/23/1994</td>\n",
       "      <td>IT Support Staff</td>\n",
       "      <td>75563674.03</td>\n",
       "      <td>744</td>\n",
       "      <td>181182</td>\n",
       "      <td>46074</td>\n",
       "      <td>MasterCard</td>\n",
       "      <td>58601.63</td>\n",
       "      <td>Low Risk</td>\n",
       "    </tr>\n",
       "    <tr>\n",
       "      <th>1</th>\n",
       "      <td>Trisha Redden</td>\n",
       "      <td>Female</td>\n",
       "      <td>4-683-143-6436</td>\n",
       "      <td>Trisha_Redden4518@3wbkp.zone</td>\n",
       "      <td>02/02/1996</td>\n",
       "      <td>Retail Trainee</td>\n",
       "      <td>15546374.91</td>\n",
       "      <td>301</td>\n",
       "      <td>62491</td>\n",
       "      <td>146166</td>\n",
       "      <td>VisaGold</td>\n",
       "      <td>119632.16</td>\n",
       "      <td>Medium Risk</td>\n",
       "    </tr>\n",
       "    <tr>\n",
       "      <th>2</th>\n",
       "      <td>Chuck Watson</td>\n",
       "      <td>Male</td>\n",
       "      <td>2-112-046-5848</td>\n",
       "      <td>Chuck_Watson4904@urn0m.com</td>\n",
       "      <td>04/06/1982</td>\n",
       "      <td>Steward</td>\n",
       "      <td>46203873.24</td>\n",
       "      <td>835</td>\n",
       "      <td>490051</td>\n",
       "      <td>78059</td>\n",
       "      <td>VisaPlatinum</td>\n",
       "      <td>96722.02</td>\n",
       "      <td>Medium Risk</td>\n",
       "    </tr>\n",
       "    <tr>\n",
       "      <th>3</th>\n",
       "      <td>Meredith Bryant</td>\n",
       "      <td>Female</td>\n",
       "      <td>8-742-122-4222</td>\n",
       "      <td>Meredith_Bryant1962@xqj6f.app</td>\n",
       "      <td>04/04/1971</td>\n",
       "      <td>Doctor</td>\n",
       "      <td>56957946.95</td>\n",
       "      <td>331</td>\n",
       "      <td>322623</td>\n",
       "      <td>174758</td>\n",
       "      <td>VisaInfinite</td>\n",
       "      <td>157589.05</td>\n",
       "      <td>High Risk</td>\n",
       "    </tr>\n",
       "    <tr>\n",
       "      <th>4</th>\n",
       "      <td>Brad Poulton</td>\n",
       "      <td>Male</td>\n",
       "      <td>8-381-385-4144</td>\n",
       "      <td>Brad_Poulton3135@ag5wi.design</td>\n",
       "      <td>12/08/1973</td>\n",
       "      <td>Stockbroker</td>\n",
       "      <td>69927678.15</td>\n",
       "      <td>626</td>\n",
       "      <td>232465</td>\n",
       "      <td>63160</td>\n",
       "      <td>MasterCard</td>\n",
       "      <td>82754.83</td>\n",
       "      <td>Medium Risk</td>\n",
       "    </tr>\n",
       "  </tbody>\n",
       "</table>\n",
       "</div>"
      ],
      "text/plain": [
       "              Name  Gender    Phone_Number                           Email  \\\n",
       "0    Maxwell Dwyer    Male  7-372-875-5034  Maxwell_Dwyer3033@urn0m.center   \n",
       "1    Trisha Redden  Female  4-683-143-6436    Trisha_Redden4518@3wbkp.zone   \n",
       "2     Chuck Watson    Male  2-112-046-5848      Chuck_Watson4904@urn0m.com   \n",
       "3  Meredith Bryant  Female  8-742-122-4222   Meredith_Bryant1962@xqj6f.app   \n",
       "4     Brad Poulton    Male  8-381-385-4144   Brad_Poulton3135@ag5wi.design   \n",
       "\n",
       "  Date_of_birth        Occupation       Income  Credit_Score  Credit_Limit  \\\n",
       "0     1/23/1994  IT Support Staff  75563674.03           744        181182   \n",
       "1    02/02/1996    Retail Trainee  15546374.91           301         62491   \n",
       "2    04/06/1982           Steward  46203873.24           835        490051   \n",
       "3    04/04/1971            Doctor  56957946.95           331        322623   \n",
       "4    12/08/1973       Stockbroker  69927678.15           626        232465   \n",
       "\n",
       "   Credit_Card_Balance Credit_Card_Type  Credit_Card_Spending Risk_Category  \n",
       "0                46074       MasterCard              58601.63      Low Risk  \n",
       "1               146166         VisaGold             119632.16   Medium Risk  \n",
       "2                78059     VisaPlatinum              96722.02   Medium Risk  \n",
       "3               174758     VisaInfinite             157589.05     High Risk  \n",
       "4                63160       MasterCard              82754.83   Medium Risk  "
      ]
     },
     "execution_count": 21,
     "metadata": {},
     "output_type": "execute_result"
    }
   ],
   "source": [
    "df1.head(5)"
   ]
  },
  {
   "cell_type": "markdown",
   "id": "3590fcc0",
   "metadata": {},
   "source": [
    "We will create a new column called Credit_Rating in the given dataset based on the values in the Credit_Score column. \n",
    "The Credit_Rating column is a categorical variable that indicates the credit rating of the individual based on their Credit_Score. \n",
    "The credit ratings are defined as follows:\n",
    "\n",
    "Very poor: 300 to 579\n",
    "\n",
    "Fair: 580 to 669\n",
    "\n",
    "Good: 670 to 739\n",
    "\n",
    "Very good: 740 to 799\n",
    "\n",
    "Excellent: 800 to 850"
   ]
  },
  {
   "cell_type": "code",
   "execution_count": 22,
   "id": "bf2ad43f",
   "metadata": {},
   "outputs": [],
   "source": [
    "# create the Credit_Rating column\n",
    "credit_ratings = []\n",
    "for score in df1['Credit_Score']:\n",
    "    if 300 <= score <= 579:\n",
    "        credit_ratings.append('Very poor')\n",
    "    elif 580 <= score <= 669:\n",
    "        credit_ratings.append('Fair')\n",
    "    elif 670 <= score <= 739:\n",
    "        credit_ratings.append('Good')\n",
    "    elif 740 <= score <= 799:\n",
    "        credit_ratings.append('Very good')\n",
    "    else:\n",
    "        credit_ratings.append('Excellent')\n",
    "        \n",
    "df1['Credit_Rating'] = credit_ratings"
   ]
  },
  {
   "cell_type": "code",
   "execution_count": 23,
   "id": "f28264d8",
   "metadata": {},
   "outputs": [
    {
     "data": {
      "text/html": [
       "<div>\n",
       "<style scoped>\n",
       "    .dataframe tbody tr th:only-of-type {\n",
       "        vertical-align: middle;\n",
       "    }\n",
       "\n",
       "    .dataframe tbody tr th {\n",
       "        vertical-align: top;\n",
       "    }\n",
       "\n",
       "    .dataframe thead th {\n",
       "        text-align: right;\n",
       "    }\n",
       "</style>\n",
       "<table border=\"1\" class=\"dataframe\">\n",
       "  <thead>\n",
       "    <tr style=\"text-align: right;\">\n",
       "      <th></th>\n",
       "      <th>Name</th>\n",
       "      <th>Gender</th>\n",
       "      <th>Phone_Number</th>\n",
       "      <th>Email</th>\n",
       "      <th>Date_of_birth</th>\n",
       "      <th>Occupation</th>\n",
       "      <th>Income</th>\n",
       "      <th>Credit_Score</th>\n",
       "      <th>Credit_Limit</th>\n",
       "      <th>Credit_Card_Balance</th>\n",
       "      <th>Credit_Card_Type</th>\n",
       "      <th>Credit_Card_Spending</th>\n",
       "      <th>Risk_Category</th>\n",
       "      <th>Credit_Rating</th>\n",
       "    </tr>\n",
       "  </thead>\n",
       "  <tbody>\n",
       "    <tr>\n",
       "      <th>0</th>\n",
       "      <td>Maxwell Dwyer</td>\n",
       "      <td>Male</td>\n",
       "      <td>7-372-875-5034</td>\n",
       "      <td>Maxwell_Dwyer3033@urn0m.center</td>\n",
       "      <td>1/23/1994</td>\n",
       "      <td>IT Support Staff</td>\n",
       "      <td>75563674.03</td>\n",
       "      <td>744</td>\n",
       "      <td>181182</td>\n",
       "      <td>46074</td>\n",
       "      <td>MasterCard</td>\n",
       "      <td>58601.63</td>\n",
       "      <td>Low Risk</td>\n",
       "      <td>Very good</td>\n",
       "    </tr>\n",
       "    <tr>\n",
       "      <th>1</th>\n",
       "      <td>Trisha Redden</td>\n",
       "      <td>Female</td>\n",
       "      <td>4-683-143-6436</td>\n",
       "      <td>Trisha_Redden4518@3wbkp.zone</td>\n",
       "      <td>02/02/1996</td>\n",
       "      <td>Retail Trainee</td>\n",
       "      <td>15546374.91</td>\n",
       "      <td>301</td>\n",
       "      <td>62491</td>\n",
       "      <td>146166</td>\n",
       "      <td>VisaGold</td>\n",
       "      <td>119632.16</td>\n",
       "      <td>Medium Risk</td>\n",
       "      <td>Very poor</td>\n",
       "    </tr>\n",
       "    <tr>\n",
       "      <th>2</th>\n",
       "      <td>Chuck Watson</td>\n",
       "      <td>Male</td>\n",
       "      <td>2-112-046-5848</td>\n",
       "      <td>Chuck_Watson4904@urn0m.com</td>\n",
       "      <td>04/06/1982</td>\n",
       "      <td>Steward</td>\n",
       "      <td>46203873.24</td>\n",
       "      <td>835</td>\n",
       "      <td>490051</td>\n",
       "      <td>78059</td>\n",
       "      <td>VisaPlatinum</td>\n",
       "      <td>96722.02</td>\n",
       "      <td>Medium Risk</td>\n",
       "      <td>Excellent</td>\n",
       "    </tr>\n",
       "    <tr>\n",
       "      <th>3</th>\n",
       "      <td>Meredith Bryant</td>\n",
       "      <td>Female</td>\n",
       "      <td>8-742-122-4222</td>\n",
       "      <td>Meredith_Bryant1962@xqj6f.app</td>\n",
       "      <td>04/04/1971</td>\n",
       "      <td>Doctor</td>\n",
       "      <td>56957946.95</td>\n",
       "      <td>331</td>\n",
       "      <td>322623</td>\n",
       "      <td>174758</td>\n",
       "      <td>VisaInfinite</td>\n",
       "      <td>157589.05</td>\n",
       "      <td>High Risk</td>\n",
       "      <td>Very poor</td>\n",
       "    </tr>\n",
       "    <tr>\n",
       "      <th>4</th>\n",
       "      <td>Brad Poulton</td>\n",
       "      <td>Male</td>\n",
       "      <td>8-381-385-4144</td>\n",
       "      <td>Brad_Poulton3135@ag5wi.design</td>\n",
       "      <td>12/08/1973</td>\n",
       "      <td>Stockbroker</td>\n",
       "      <td>69927678.15</td>\n",
       "      <td>626</td>\n",
       "      <td>232465</td>\n",
       "      <td>63160</td>\n",
       "      <td>MasterCard</td>\n",
       "      <td>82754.83</td>\n",
       "      <td>Medium Risk</td>\n",
       "      <td>Fair</td>\n",
       "    </tr>\n",
       "  </tbody>\n",
       "</table>\n",
       "</div>"
      ],
      "text/plain": [
       "              Name  Gender    Phone_Number                           Email  \\\n",
       "0    Maxwell Dwyer    Male  7-372-875-5034  Maxwell_Dwyer3033@urn0m.center   \n",
       "1    Trisha Redden  Female  4-683-143-6436    Trisha_Redden4518@3wbkp.zone   \n",
       "2     Chuck Watson    Male  2-112-046-5848      Chuck_Watson4904@urn0m.com   \n",
       "3  Meredith Bryant  Female  8-742-122-4222   Meredith_Bryant1962@xqj6f.app   \n",
       "4     Brad Poulton    Male  8-381-385-4144   Brad_Poulton3135@ag5wi.design   \n",
       "\n",
       "  Date_of_birth        Occupation       Income  Credit_Score  Credit_Limit  \\\n",
       "0     1/23/1994  IT Support Staff  75563674.03           744        181182   \n",
       "1    02/02/1996    Retail Trainee  15546374.91           301         62491   \n",
       "2    04/06/1982           Steward  46203873.24           835        490051   \n",
       "3    04/04/1971            Doctor  56957946.95           331        322623   \n",
       "4    12/08/1973       Stockbroker  69927678.15           626        232465   \n",
       "\n",
       "   Credit_Card_Balance Credit_Card_Type  Credit_Card_Spending Risk_Category  \\\n",
       "0                46074       MasterCard              58601.63      Low Risk   \n",
       "1               146166         VisaGold             119632.16   Medium Risk   \n",
       "2                78059     VisaPlatinum              96722.02   Medium Risk   \n",
       "3               174758     VisaInfinite             157589.05     High Risk   \n",
       "4                63160       MasterCard              82754.83   Medium Risk   \n",
       "\n",
       "  Credit_Rating  \n",
       "0     Very good  \n",
       "1     Very poor  \n",
       "2     Excellent  \n",
       "3     Very poor  \n",
       "4          Fair  "
      ]
     },
     "execution_count": 23,
     "metadata": {},
     "output_type": "execute_result"
    }
   ],
   "source": [
    "df1.head(5)"
   ]
  },
  {
   "cell_type": "code",
   "execution_count": 24,
   "id": "6132ecac",
   "metadata": {},
   "outputs": [],
   "source": [
    "#Export the dataframe to a csv file to build a dashboard.\n",
    "df1.to_csv('real_credit_card_predictions.csv', index=False)"
   ]
  },
  {
   "cell_type": "markdown",
   "id": "572ca0d1",
   "metadata": {},
   "source": [
    "You can find the visualization on my Dashboard and the project proposal document details my thought process for this project. Feel free to reach out to me via LinkedIn if you have any questions or need additional clarification.\n",
    "\n",
    "<a href=\"https://linkedin.com/in/akonusoh\">LinkedIn Page</a>"
   ]
  }
 ],
 "metadata": {
  "kernelspec": {
   "display_name": "Python 3 (ipykernel)",
   "language": "python",
   "name": "python3"
  },
  "language_info": {
   "codemirror_mode": {
    "name": "ipython",
    "version": 3
   },
   "file_extension": ".py",
   "mimetype": "text/x-python",
   "name": "python",
   "nbconvert_exporter": "python",
   "pygments_lexer": "ipython3",
   "version": "3.9.12"
  }
 },
 "nbformat": 4,
 "nbformat_minor": 5
}
